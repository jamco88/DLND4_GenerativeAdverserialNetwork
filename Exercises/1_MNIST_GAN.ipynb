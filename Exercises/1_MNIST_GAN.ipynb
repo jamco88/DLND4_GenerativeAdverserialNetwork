{
 "cells": [
  {
   "cell_type": "markdown",
   "metadata": {},
   "source": [
    "# Generative Adversarial Network\n",
    "\n",
    "In this notebook, we'll be building a generative adversarial network (GAN) trained on the MNIST dataset. From this, we'll be able to generate new handwritten digits!\n",
    "\n",
    "GANs were [first reported on](https://arxiv.org/abs/1406.2661) in 2014 from Ian Goodfellow and others in Yoshua Bengio's lab. Since then, GANs have exploded in popularity. Here are a few examples to check out:\n",
    "\n",
    "* [Pix2Pix](https://affinelayer.com/pixsrv/) \n",
    "* [CycleGAN & Pix2Pix in PyTorch, Jun-Yan Zhu](https://github.com/junyanz/pytorch-CycleGAN-and-pix2pix)\n",
    "* [A list of generative models](https://github.com/wiseodd/generative-models)\n",
    "\n",
    "The idea behind GANs is that you have two networks, a generator $G$ and a discriminator $D$, competing against each other. The generator makes \"fake\" data to pass to the discriminator. The discriminator also sees real training data and predicts if the data it's received is real or fake. \n",
    "> * The generator is trained to fool the discriminator, it wants to output data that looks _as close as possible_ to real, training data. \n",
    "* The discriminator is a classifier that is trained to figure out which data is real and which is fake. \n",
    "\n",
    "What ends up happening is that the generator learns to make data that is indistinguishable from real data to the discriminator.\n",
    "\n",
    "<img src='assets/gan_pipeline.png' width=70% />\n",
    "\n",
    "The general structure of a GAN is shown in the diagram above, using MNIST images as data. The latent sample is a random vector that the generator uses to construct its fake images. This is often called a **latent vector** and that vector space is called **latent space**. As the generator trains, it figures out how to map latent vectors to recognizable images that can fool the discriminator.\n",
    "\n",
    "If you're interested in generating only new images, you can throw out the discriminator after training. In this notebook, I'll show you how to define and train these adversarial networks in PyTorch and generate new images!"
   ]
  },
  {
   "cell_type": "code",
   "execution_count": 1,
   "metadata": {
    "ExecuteTime": {
     "end_time": "2020-04-01T09:45:19.103334Z",
     "start_time": "2020-04-01T09:45:18.277491Z"
    }
   },
   "outputs": [],
   "source": [
    "%matplotlib inline\n",
    "\n",
    "import numpy as np\n",
    "import torch\n",
    "import matplotlib.pyplot as plt"
   ]
  },
  {
   "cell_type": "code",
   "execution_count": 2,
   "metadata": {
    "ExecuteTime": {
     "end_time": "2020-04-01T09:45:19.235364Z",
     "start_time": "2020-04-01T09:45:19.110336Z"
    }
   },
   "outputs": [],
   "source": [
    "from torchvision import datasets\n",
    "import torchvision.transforms as transforms\n",
    "\n",
    "# number of subprocesses to use for data loading\n",
    "num_workers = 0\n",
    "# how many samples per batch to load\n",
    "batch_size = 64\n",
    "\n",
    "# convert data to torch.FloatTensor\n",
    "transform = transforms.ToTensor()\n",
    "\n",
    "# get the training datasets\n",
    "train_data = datasets.MNIST(root='data', train=True,\n",
    "                                   download=True, transform=transform)\n",
    "\n",
    "# prepare data loader\n",
    "train_loader = torch.utils.data.DataLoader(train_data, batch_size=batch_size,\n",
    "                                           num_workers=num_workers)"
   ]
  },
  {
   "cell_type": "markdown",
   "metadata": {},
   "source": [
    "### Visualize the data"
   ]
  },
  {
   "cell_type": "code",
   "execution_count": 3,
   "metadata": {
    "ExecuteTime": {
     "end_time": "2020-04-01T09:45:20.236125Z",
     "start_time": "2020-04-01T09:45:20.128101Z"
    }
   },
   "outputs": [
    {
     "data": {
      "text/plain": [
       "<matplotlib.image.AxesImage at 0x1c29f5a11c8>"
      ]
     },
     "execution_count": 3,
     "metadata": {},
     "output_type": "execute_result"
    },
    {
     "data": {
      "image/png": "[encoded data removed]",
      "text/plain": [
       "<Figure size 216x216 with 1 Axes>"
      ]
     },
     "metadata": {
      "needs_background": "light"
     },
     "output_type": "display_data"
    }
   ],
   "source": [
    "# obtain one batch of training images\n",
    "dataiter = iter(train_loader)\n",
    "images, labels = dataiter.next()\n",
    "images = images.numpy()\n",
    "\n",
    "# get one image from the batch\n",
    "img = np.squeeze(images[0])\n",
    "\n",
    "fig = plt.figure(figsize = (3,3)) \n",
    "ax = fig.add_subplot(111)\n",
    "ax.imshow(img, cmap='gray')"
   ]
  },
  {
   "cell_type": "markdown",
   "metadata": {},
   "source": [
    "---\n",
    "# Define the Model\n",
    "\n",
    "A GAN is comprised of two adversarial networks, a discriminator and a generator."
   ]
  },
  {
   "cell_type": "markdown",
   "metadata": {},
   "source": [
    "## Discriminator\n",
    "\n",
    "The discriminator network is going to be a pretty typical linear classifier. To make this network a universal function approximator, we'll need at least one hidden layer, and these hidden layers should have one key attribute:\n",
    "> All hidden layers will have a [Leaky ReLu](https://pytorch.org/docs/stable/nn.html#torch.nn.LeakyReLU) activation function applied to their outputs.\n",
    "\n",
    "<img src='assets/gan_network.png' width=70% />\n",
    "\n",
    "#### Leaky ReLu\n",
    "\n",
    "We should use a leaky ReLU to allow gradients to flow backwards through the layer unimpeded. A leaky ReLU is like a normal ReLU, except that there is a small non-zero output for negative input values.\n",
    "\n",
    "<img src='assets/leaky_relu.png' width=40% />\n",
    "\n",
    "#### Sigmoid Output\n",
    "\n",
    "We'll also take the approach of using a more numerically stable loss function on the outputs. Recall that we want the discriminator to output a value 0-1 indicating whether an image is _real or fake_. \n",
    "> We will ultimately use [BCEWithLogitsLoss](https://pytorch.org/docs/stable/nn.html#bcewithlogitsloss), which combines a `sigmoid` activation function **and** and binary cross entropy loss in one function. \n",
    "\n",
    "So, our final output layer should not have any activation function applied to it."
   ]
  },
  {
   "cell_type": "code",
   "execution_count": 25,
   "metadata": {
    "ExecuteTime": {
     "end_time": "2020-04-01T11:59:36.157251Z",
     "start_time": "2020-04-01T11:59:36.151249Z"
    }
   },
   "outputs": [],
   "source": [
    "import torch.nn as nn\n",
    "import torch.nn.functional as F\n",
    "\n",
    "class Discriminator(nn.Module):\n",
    "\n",
    "    def __init__(self, input_size, hidden_dim, output_size):\n",
    "        super(Discriminator, self).__init__()\n",
    "        \n",
    "        # define hidden linear layers\n",
    "        self.fc1 = nn.Linear(input_size, hidden_dim*4)\n",
    "        self.fc2 = nn.Linear(hidden_dim*4, hidden_dim*2)\n",
    "        self.fc3 = nn.Linear(hidden_dim*2, hidden_dim)\n",
    "        \n",
    "        # final fully-connected layer\n",
    "        self.fc4 = nn.Linear(hidden_dim, output_size)\n",
    "        \n",
    "        # dropout layer \n",
    "        self.dropout = nn.Dropout(0.3)\n",
    "        \n",
    "        \n",
    "    def forward(self, x):\n",
    "        # flatten image\n",
    "        x = x.view(-1, 28*28)\n",
    "        # all hidden layers\n",
    "        x = F.leaky_relu(self.fc1(x), 0.2) # (input, negative_slope=0.2)\n",
    "        x = self.dropout(x)\n",
    "        x = F.leaky_relu(self.fc2(x), 0.2)\n",
    "        x = self.dropout(x)\n",
    "        x = F.leaky_relu(self.fc3(x), 0.2)\n",
    "        x = self.dropout(x)\n",
    "        # final layer\n",
    "        out = self.fc4(x)\n",
    "\n",
    "        return out\n"
   ]
  },
  {
   "cell_type": "markdown",
   "metadata": {},
   "source": [
    "### Learning Notes\n",
    "\n",
    "#### Discriminator class init function:\n",
    "\n",
    "Fully connected layers are available via self.fc().\n",
    "self.fc() needs to know things - the input dimensionality, and the output dimensionality.\n",
    "The leaky Relu layer should be implemented in the forward pass function, not the init function\n",
    "\n",
    "Dropout layers go in the init function. It's good practice to have a dropout layer between every fully connected layer.\n",
    "\n",
    "forward pass works by making sequential updates to x.\n",
    "\n",
    "#### Discriminator class forward function:\n",
    "\n",
    "x is the input image vector\n",
    "x.view(-1, y) flattens the input image so it has dimensionality (y,1) ie it looks like [1,2,3,4...784]\n",
    "You have to use F.thing() to access thing() in the forward pass (to be consistent with udacity's use of nn.Functional)\n",
    "During the course we are told that the negative slope argument's sensible default is 0.2\n",
    "\n"
   ]
  },
  {
   "cell_type": "markdown",
   "metadata": {},
   "source": [
    "## Generator\n",
    "\n",
    "The generator network will be almost exactly the same as the discriminator network, except that we're applying a [tanh activation function](https://pytorch.org/docs/stable/nn.html#tanh) to our output layer.\n",
    "\n",
    "#### tanh Output\n",
    "The generator has been found to perform the best with $tanh$ for the generator output, which scales the output to be between -1 and 1, instead of 0 and 1. \n",
    "\n",
    "<img src='assets/tanh_fn.png' width=40% />\n",
    "\n",
    "Recall that we also want these outputs to be comparable to the *real* input pixel values, which are read in as normalized values between 0 and 1. \n",
    "> So, we'll also have to **scale our real input images to have pixel values between -1 and 1** when we train the discriminator. \n",
    "\n",
    "I'll do this in the training loop, later on."
   ]
  },
  {
   "cell_type": "code",
   "execution_count": 26,
   "metadata": {
    "ExecuteTime": {
     "end_time": "2020-04-01T11:59:56.708469Z",
     "start_time": "2020-04-01T11:59:56.703467Z"
    }
   },
   "outputs": [],
   "source": [
    "class Generator(nn.Module):\n",
    "\n",
    "    def __init__(self, input_size, hidden_dim, output_size):\n",
    "        super(Generator, self).__init__()\n",
    "        \n",
    "        # define hidden linear layers\n",
    "        self.fc1 = nn.Linear(input_size, hidden_dim)\n",
    "        self.fc2 = nn.Linear(hidden_dim, hidden_dim*2)\n",
    "        self.fc3 = nn.Linear(hidden_dim*2, hidden_dim*4)\n",
    "        \n",
    "        # final fully-connected layer\n",
    "        self.fc4 = nn.Linear(hidden_dim*4, output_size)\n",
    "        \n",
    "        # dropout layer \n",
    "        self.dropout = nn.Dropout(0.3)\n",
    "\n",
    "    def forward(self, x):\n",
    "        # all hidden layers\n",
    "        x = F.leaky_relu(self.fc1(x), 0.2) # (input, negative_slope=0.2)\n",
    "        x = self.dropout(x)\n",
    "        x = F.leaky_relu(self.fc2(x), 0.2)\n",
    "        x = self.dropout(x)\n",
    "        x = F.leaky_relu(self.fc3(x), 0.2)\n",
    "        x = self.dropout(x)\n",
    "        # final layer with tanh applied\n",
    "        out = F.tanh(self.fc4(x))\n",
    "\n",
    "        return out"
   ]
  },
  {
   "cell_type": "markdown",
   "metadata": {},
   "source": [
    "### Learning Notes: Generator class\n",
    "\n",
    "Instead of taking in an image as input, we want the Generator to take in the Latent Vector, Z, and produce an image as output\n",
    "\n",
    "#### init():\n",
    "\n",
    "our fully connected layers expand the input vector so instead of starting an image and\n",
    "reducing down to a probability, we're starting with a vector and expanding out to an image.\n",
    "\n",
    "This means that unlike our Discriminator, we increase the size of the matrix at each step.\n",
    "The output of the discriminator is the probability of the image being True.\n",
    "The output of the generator is the fake image itself - a 28 by 28 matrix.\n",
    "\n",
    "#### forward():\n",
    "here x is the latent vector z\n",
    "just remember to add dropouts between fc layers.\n",
    "As per the above, the final part is a tanH activation function."
   ]
  },
  {
   "cell_type": "markdown",
   "metadata": {},
   "source": [
    "## Model hyperparameters"
   ]
  },
  {
   "cell_type": "code",
   "execution_count": 27,
   "metadata": {
    "ExecuteTime": {
     "end_time": "2020-04-01T11:59:59.279571Z",
     "start_time": "2020-04-01T11:59:59.276571Z"
    }
   },
   "outputs": [],
   "source": [
    "# Discriminator hyperparams\n",
    "\n",
    "# Size of input image to discriminator (28*28)\n",
    "input_size = 784\n",
    "# Size of discriminator output (real or fake)\n",
    "d_output_size = 1\n",
    "# Size of *last* hidden layer in the discriminator (784 - 392- )\n",
    "d_hidden_size = 32\n",
    "\n",
    "# Generator hyperparams\n",
    "\n",
    "# Size of latent vector to give to generator\n",
    "z_size = 100\n",
    "# Size of discriminator output (generated image)\n",
    "g_output_size = 784\n",
    "# Size of *first* hidden layer in the generator\n",
    "g_hidden_size = 32"
   ]
  },
  {
   "cell_type": "markdown",
   "metadata": {},
   "source": [
    "## Build complete network\n",
    "\n",
    "Now we're instantiating the discriminator and generator from the classes defined above. Make sure you've passed in the correct input arguments."
   ]
  },
  {
   "cell_type": "code",
   "execution_count": 28,
   "metadata": {
    "ExecuteTime": {
     "end_time": "2020-04-01T12:00:14.352438Z",
     "start_time": "2020-04-01T12:00:14.347437Z"
    }
   },
   "outputs": [
    {
     "name": "stdout",
     "output_type": "stream",
     "text": [
      "Discriminator(\n",
      "  (fc1): Linear(in_features=784, out_features=128, bias=True)\n",
      "  (fc2): Linear(in_features=128, out_features=64, bias=True)\n",
      "  (fc3): Linear(in_features=64, out_features=32, bias=True)\n",
      "  (fc4): Linear(in_features=32, out_features=1, bias=True)\n",
      "  (dropout): Dropout(p=0.3)\n",
      ")\n",
      "\n",
      "Generator(\n",
      "  (fc1): Linear(in_features=100, out_features=32, bias=True)\n",
      "  (fc2): Linear(in_features=32, out_features=64, bias=True)\n",
      "  (fc3): Linear(in_features=64, out_features=128, bias=True)\n",
      "  (fc4): Linear(in_features=128, out_features=784, bias=True)\n",
      "  (dropout): Dropout(p=0.3)\n",
      ")\n"
     ]
    }
   ],
   "source": [
    "# instantiate discriminator and generator\n",
    "D = Discriminator(input_size, d_hidden_size, d_output_size)\n",
    "G = Generator(z_size, g_hidden_size, g_output_size)\n",
    "\n",
    "# check that they are as you expect\n",
    "print(D)\n",
    "print()\n",
    "print(G)"
   ]
  },
  {
   "cell_type": "markdown",
   "metadata": {},
   "source": [
    "---\n",
    "## Discriminator and Generator Losses\n",
    "\n",
    "Now we need to calculate the losses. \n",
    "\n",
    "### Discriminator Losses\n",
    "\n",
    "> * For the discriminator, the total loss is the sum of the losses for real and fake images, `d_loss = d_real_loss + d_fake_loss`. \n",
    "* Remember that we want the discriminator to output 1 for real images and 0 for fake images, so we need to set up the losses to reflect that.\n",
    "\n",
    "<img src='assets/gan_pipeline.png' width=70% />\n",
    "\n",
    "The losses will by binary cross entropy loss with logits, which we can get with [BCEWithLogitsLoss](https://pytorch.org/docs/stable/nn.html#bcewithlogitsloss). This combines a `sigmoid` activation function **and** and binary cross entropy loss in one function.\n",
    "\n",
    "For the real images, we want `D(real_images) = 1`. That is, we want the discriminator to classify the the real images with a label = 1, indicating that these are real. To help the discriminator generalize better, the labels are **reduced a bit from 1.0 to 0.9**. For this, we'll use the parameter `smooth`; if True, then we should smooth our labels. In PyTorch, this looks like `labels = torch.ones(size) * 0.9`\n",
    "\n",
    "The discriminator loss for the fake data is similar. We want `D(fake_images) = 0`, where the fake images are the _generator output_, `fake_images = G(z)`. \n",
    "\n",
    "### Generator Loss\n",
    "\n",
    "The generator loss will look similar only with flipped labels. The generator's goal is to get `D(fake_images) = 1`. In this case, the labels are **flipped** to represent that the generator is trying to fool the discriminator into thinking that the images it generates (fakes) are real!"
   ]
  },
  {
   "cell_type": "code",
   "execution_count": 35,
   "metadata": {
    "ExecuteTime": {
     "end_time": "2020-04-01T12:00:56.664486Z",
     "start_time": "2020-04-01T12:00:56.660486Z"
    }
   },
   "outputs": [],
   "source": [
    "# Calculate losses\n",
    "def real_loss(D_out, smooth=False):\n",
    "    # compare logits to real labels\n",
    "    batch_length = D_out.size(0)\n",
    "    # smooth labels if smooth=True\n",
    "    if smooth:\n",
    "        labels = torch.ones(batch_length)*0.9\n",
    "    else:\n",
    "        labels = torch.ones(batch_length)\n",
    "    \n",
    "    criterion = nn.BCEWithLogitsLoss()\n",
    "    loss = criterion(D_out.squeeze(), labels)\n",
    "    return loss\n",
    "\n",
    "def fake_loss(D_out):\n",
    "    # compare logits to fake labels\n",
    "    batch_length = D_out.size(0)\n",
    "    labels = torch.zeros(batch_length)\n",
    "    criterion = nn.BCEWithLogitsLoss()\n",
    "    loss = criterion(D_out.squeeze(), labels)\n",
    "    return loss"
   ]
  },
  {
   "cell_type": "markdown",
   "metadata": {},
   "source": [
    "##### real_loss()\n",
    "it isn't clear where the real labels come from. The notes refer to parameter size which is not passed into the function\n",
    "\n",
    "use print(D_Out) to investigate this when it's called.\n",
    "\n",
    "D_out should be an array with either 0 or 1 in each position, with length batch_size. The 0 or 1 corresponsds to the discriminators prediction, real or fake, for that image.\n",
    "\n",
    "A problem with these notebooks is that by writing the functions before they're called, there's no way of inspecting the variables and iteratively figuring out what to do.\n"
   ]
  },
  {
   "cell_type": "markdown",
   "metadata": {},
   "source": [
    "## Optimizers\n",
    "\n",
    "We want to update the generator and discriminator variables separately. So, we'll define two separate Adam optimizers."
   ]
  },
  {
   "cell_type": "code",
   "execution_count": 36,
   "metadata": {
    "ExecuteTime": {
     "end_time": "2020-04-01T12:00:57.117566Z",
     "start_time": "2020-04-01T12:00:57.114566Z"
    },
    "scrolled": true
   },
   "outputs": [],
   "source": [
    "import torch.optim as optim\n",
    "\n",
    "# learning rate for optimizers\n",
    "lr = 0.002\n",
    "\n",
    "# Create optimizers for the discriminator and generator\n",
    "#need two different optimizers because the networks are trained separately.\n",
    "d_optimizer = optim.Adam(D.parameters(), lr)\n",
    "g_optimizer = optim.Adam(G.parameters(), lr)"
   ]
  },
  {
   "cell_type": "markdown",
   "metadata": {},
   "source": [
    "---\n",
    "## Training\n",
    "\n",
    "Training will involve alternating between training the discriminator and the generator. We'll use our functions `real_loss` and `fake_loss` to help us calculate the discriminator losses in all of the following cases.\n",
    "\n",
    "### Discriminator training\n",
    "1. Compute the discriminator loss on real, training images        \n",
    "2. Generate fake images\n",
    "3. Compute the discriminator loss on fake, generated images     \n",
    "4. Add up real and fake loss\n",
    "5. Perform backpropagation + an optimization step to update the discriminator's weights\n",
    "\n",
    "### Generator training\n",
    "1. Generate fake images\n",
    "2. Compute the discriminator loss on fake images, using **flipped** labels!\n",
    "3. Perform backpropagation + an optimization step to update the generator's weights\n",
    "\n",
    "#### Saving Samples\n",
    "\n",
    "As we train, we'll also print out some loss statistics and save some generated \"fake\" samples."
   ]
  },
  {
   "cell_type": "code",
   "execution_count": 40,
   "metadata": {
    "ExecuteTime": {
     "end_time": "2020-04-01T13:09:39.823159Z",
     "start_time": "2020-04-01T12:37:28.084299Z"
    },
    "scrolled": true
   },
   "outputs": [
    {
     "name": "stdout",
     "output_type": "stream",
     "text": [
      "Epoch [    1/  100] | d_loss: 1.3395 | g_loss: 0.8678\n",
      "Epoch [    1/  100] | d_loss: 1.2465 | g_loss: 1.2959\n",
      "Epoch [    1/  100] | d_loss: 1.3336 | g_loss: 0.8038\n",
      "Epoch [    2/  100] | d_loss: 1.2660 | g_loss: 1.1748\n",
      "Epoch [    2/  100] | d_loss: 1.2526 | g_loss: 1.5175\n",
      "Epoch [    2/  100] | d_loss: 1.2851 | g_loss: 1.5748\n",
      "Epoch [    3/  100] | d_loss: 1.2410 | g_loss: 0.9135\n",
      "Epoch [    3/  100] | d_loss: 1.2848 | g_loss: 0.9445\n",
      "Epoch [    3/  100] | d_loss: 1.3715 | g_loss: 0.9536\n",
      "Epoch [    4/  100] | d_loss: 1.3006 | g_loss: 1.0144\n",
      "Epoch [    4/  100] | d_loss: 1.3433 | g_loss: 0.9726\n",
      "Epoch [    4/  100] | d_loss: 1.5192 | g_loss: 1.0530\n",
      "Epoch [    5/  100] | d_loss: 1.1458 | g_loss: 2.1620\n",
      "Epoch [    5/  100] | d_loss: 1.2180 | g_loss: 1.0627\n",
      "Epoch [    5/  100] | d_loss: 1.3195 | g_loss: 1.1954\n",
      "Epoch [    6/  100] | d_loss: 1.2819 | g_loss: 0.8354\n",
      "Epoch [    6/  100] | d_loss: 1.2984 | g_loss: 0.9398\n",
      "Epoch [    6/  100] | d_loss: 1.2928 | g_loss: 0.9159\n",
      "Epoch [    7/  100] | d_loss: 1.3127 | g_loss: 0.9819\n",
      "Epoch [    7/  100] | d_loss: 1.1654 | g_loss: 1.1150\n",
      "Epoch [    7/  100] | d_loss: 1.3250 | g_loss: 1.4098\n",
      "Epoch [    8/  100] | d_loss: 1.3080 | g_loss: 1.1753\n",
      "Epoch [    8/  100] | d_loss: 1.1939 | g_loss: 1.1137\n",
      "Epoch [    8/  100] | d_loss: 1.4110 | g_loss: 1.0575\n",
      "Epoch [    9/  100] | d_loss: 1.2684 | g_loss: 0.9829\n",
      "Epoch [    9/  100] | d_loss: 1.2825 | g_loss: 1.0115\n",
      "Epoch [    9/  100] | d_loss: 1.3762 | g_loss: 1.0926\n",
      "Epoch [   10/  100] | d_loss: 1.2654 | g_loss: 1.0110\n",
      "Epoch [   10/  100] | d_loss: 1.2457 | g_loss: 0.8945\n",
      "Epoch [   10/  100] | d_loss: 1.3332 | g_loss: 0.9123\n",
      "Epoch [   11/  100] | d_loss: 1.1655 | g_loss: 1.4271\n",
      "Epoch [   11/  100] | d_loss: 1.3547 | g_loss: 1.0139\n",
      "Epoch [   11/  100] | d_loss: 1.3719 | g_loss: 1.5170\n",
      "Epoch [   12/  100] | d_loss: 1.2908 | g_loss: 1.6575\n",
      "Epoch [   12/  100] | d_loss: 1.0769 | g_loss: 1.7699\n",
      "Epoch [   12/  100] | d_loss: 1.3277 | g_loss: 0.9572\n",
      "Epoch [   13/  100] | d_loss: 1.2600 | g_loss: 1.0538\n",
      "Epoch [   13/  100] | d_loss: 1.2118 | g_loss: 1.3783\n",
      "Epoch [   13/  100] | d_loss: 1.3855 | g_loss: 1.2142\n",
      "Epoch [   14/  100] | d_loss: 1.3029 | g_loss: 1.0059\n",
      "Epoch [   14/  100] | d_loss: 1.3196 | g_loss: 1.4851\n",
      "Epoch [   14/  100] | d_loss: 1.2741 | g_loss: 0.9683\n",
      "Epoch [   15/  100] | d_loss: 1.3364 | g_loss: 0.9981\n",
      "Epoch [   15/  100] | d_loss: 1.2624 | g_loss: 1.4580\n",
      "Epoch [   15/  100] | d_loss: 1.3898 | g_loss: 1.3889\n",
      "Epoch [   16/  100] | d_loss: 1.2469 | g_loss: 1.4372\n",
      "Epoch [   16/  100] | d_loss: 1.1768 | g_loss: 1.0375\n",
      "Epoch [   16/  100] | d_loss: 1.4187 | g_loss: 0.9861\n",
      "Epoch [   17/  100] | d_loss: 1.2522 | g_loss: 1.0309\n",
      "Epoch [   17/  100] | d_loss: 1.2812 | g_loss: 1.3450\n",
      "Epoch [   17/  100] | d_loss: 1.2641 | g_loss: 0.9107\n",
      "Epoch [   18/  100] | d_loss: 1.4149 | g_loss: 1.4613\n",
      "Epoch [   18/  100] | d_loss: 1.2255 | g_loss: 0.9838\n",
      "Epoch [   18/  100] | d_loss: 1.4225 | g_loss: 1.1999\n",
      "Epoch [   19/  100] | d_loss: 1.1831 | g_loss: 1.6660\n",
      "Epoch [   19/  100] | d_loss: 1.1799 | g_loss: 0.9601\n",
      "Epoch [   19/  100] | d_loss: 1.3562 | g_loss: 0.9357\n",
      "Epoch [   20/  100] | d_loss: 1.2786 | g_loss: 1.4533\n",
      "Epoch [   20/  100] | d_loss: 1.2037 | g_loss: 1.1511\n",
      "Epoch [   20/  100] | d_loss: 1.2440 | g_loss: 1.0522\n",
      "Epoch [   21/  100] | d_loss: 1.1730 | g_loss: 1.3433\n",
      "Epoch [   21/  100] | d_loss: 1.2003 | g_loss: 1.2134\n",
      "Epoch [   21/  100] | d_loss: 1.4134 | g_loss: 1.2656\n",
      "Epoch [   22/  100] | d_loss: 1.3199 | g_loss: 1.2132\n",
      "Epoch [   22/  100] | d_loss: 1.3346 | g_loss: 1.1661\n",
      "Epoch [   22/  100] | d_loss: 1.5094 | g_loss: 1.0947\n",
      "Epoch [   23/  100] | d_loss: 1.2453 | g_loss: 0.9392\n",
      "Epoch [   23/  100] | d_loss: 1.2460 | g_loss: 0.9669\n",
      "Epoch [   23/  100] | d_loss: 1.1960 | g_loss: 1.1204\n",
      "Epoch [   24/  100] | d_loss: 1.2615 | g_loss: 1.1153\n",
      "Epoch [   24/  100] | d_loss: 1.1550 | g_loss: 1.1230\n",
      "Epoch [   24/  100] | d_loss: 1.3111 | g_loss: 1.0049\n",
      "Epoch [   25/  100] | d_loss: 1.3319 | g_loss: 1.0788\n",
      "Epoch [   25/  100] | d_loss: 1.2040 | g_loss: 1.1840\n",
      "Epoch [   25/  100] | d_loss: 1.2742 | g_loss: 1.2853\n",
      "Epoch [   26/  100] | d_loss: 1.2420 | g_loss: 1.0811\n",
      "Epoch [   26/  100] | d_loss: 1.2387 | g_loss: 1.0711\n",
      "Epoch [   26/  100] | d_loss: 1.2843 | g_loss: 0.8680\n",
      "Epoch [   27/  100] | d_loss: 1.3583 | g_loss: 0.9350\n",
      "Epoch [   27/  100] | d_loss: 1.3122 | g_loss: 0.8897\n",
      "Epoch [   27/  100] | d_loss: 1.3125 | g_loss: 0.9567\n",
      "Epoch [   28/  100] | d_loss: 1.3390 | g_loss: 0.8797\n",
      "Epoch [   28/  100] | d_loss: 1.2414 | g_loss: 1.0888\n",
      "Epoch [   28/  100] | d_loss: 1.3785 | g_loss: 1.1314\n",
      "Epoch [   29/  100] | d_loss: 1.2408 | g_loss: 0.9853\n",
      "Epoch [   29/  100] | d_loss: 1.4038 | g_loss: 1.0592\n",
      "Epoch [   29/  100] | d_loss: 1.3236 | g_loss: 1.1621\n",
      "Epoch [   30/  100] | d_loss: 1.2851 | g_loss: 0.9904\n",
      "Epoch [   30/  100] | d_loss: 1.2184 | g_loss: 1.0325\n",
      "Epoch [   30/  100] | d_loss: 1.3927 | g_loss: 1.1729\n",
      "Epoch [   31/  100] | d_loss: 1.2355 | g_loss: 1.0428\n",
      "Epoch [   31/  100] | d_loss: 1.1058 | g_loss: 1.0379\n",
      "Epoch [   31/  100] | d_loss: 1.2771 | g_loss: 0.7987\n",
      "Epoch [   32/  100] | d_loss: 1.3163 | g_loss: 1.0252\n",
      "Epoch [   32/  100] | d_loss: 1.2301 | g_loss: 1.1537\n",
      "Epoch [   32/  100] | d_loss: 1.3314 | g_loss: 1.0633\n",
      "Epoch [   33/  100] | d_loss: 1.2541 | g_loss: 1.0712\n",
      "Epoch [   33/  100] | d_loss: 1.3054 | g_loss: 1.1735\n",
      "Epoch [   33/  100] | d_loss: 1.4111 | g_loss: 1.0211\n",
      "Epoch [   34/  100] | d_loss: 1.3751 | g_loss: 1.2054\n",
      "Epoch [   34/  100] | d_loss: 1.1037 | g_loss: 1.1549\n",
      "Epoch [   34/  100] | d_loss: 1.3285 | g_loss: 1.1435\n",
      "Epoch [   35/  100] | d_loss: 1.2386 | g_loss: 1.2666\n",
      "Epoch [   35/  100] | d_loss: 1.2674 | g_loss: 1.1359\n",
      "Epoch [   35/  100] | d_loss: 1.3048 | g_loss: 0.9538\n",
      "Epoch [   36/  100] | d_loss: 1.1787 | g_loss: 1.4826\n",
      "Epoch [   36/  100] | d_loss: 1.2272 | g_loss: 0.9985\n",
      "Epoch [   36/  100] | d_loss: 1.3342 | g_loss: 1.0038\n",
      "Epoch [   37/  100] | d_loss: 1.3709 | g_loss: 1.4577\n",
      "Epoch [   37/  100] | d_loss: 1.2153 | g_loss: 1.2914\n",
      "Epoch [   37/  100] | d_loss: 1.2656 | g_loss: 1.0013\n",
      "Epoch [   38/  100] | d_loss: 1.2111 | g_loss: 1.2058\n",
      "Epoch [   38/  100] | d_loss: 1.0879 | g_loss: 1.2186\n",
      "Epoch [   38/  100] | d_loss: 1.3594 | g_loss: 1.0698\n",
      "Epoch [   39/  100] | d_loss: 1.2505 | g_loss: 0.9749\n",
      "Epoch [   39/  100] | d_loss: 1.2911 | g_loss: 1.0570\n",
      "Epoch [   39/  100] | d_loss: 1.2170 | g_loss: 1.2290\n",
      "Epoch [   40/  100] | d_loss: 1.1564 | g_loss: 1.4327\n",
      "Epoch [   40/  100] | d_loss: 1.2356 | g_loss: 0.9959\n",
      "Epoch [   40/  100] | d_loss: 1.2644 | g_loss: 1.1732\n",
      "Epoch [   41/  100] | d_loss: 1.2497 | g_loss: 1.1059\n",
      "Epoch [   41/  100] | d_loss: 1.1286 | g_loss: 1.1191\n",
      "Epoch [   41/  100] | d_loss: 1.2289 | g_loss: 0.9902\n",
      "Epoch [   42/  100] | d_loss: 1.3918 | g_loss: 1.3186\n",
      "Epoch [   42/  100] | d_loss: 1.1912 | g_loss: 1.0654\n",
      "Epoch [   42/  100] | d_loss: 1.2662 | g_loss: 1.0353\n",
      "Epoch [   43/  100] | d_loss: 1.1177 | g_loss: 1.3366\n",
      "Epoch [   43/  100] | d_loss: 1.1448 | g_loss: 1.0029\n",
      "Epoch [   43/  100] | d_loss: 1.2656 | g_loss: 0.9601\n",
      "Epoch [   44/  100] | d_loss: 1.1898 | g_loss: 1.0888\n",
      "Epoch [   44/  100] | d_loss: 1.1415 | g_loss: 1.1069\n",
      "Epoch [   44/  100] | d_loss: 1.3645 | g_loss: 1.1947\n",
      "Epoch [   45/  100] | d_loss: 1.2602 | g_loss: 1.0147\n",
      "Epoch [   45/  100] | d_loss: 1.2668 | g_loss: 1.1098\n",
      "Epoch [   45/  100] | d_loss: 1.3066 | g_loss: 1.1847\n",
      "Epoch [   46/  100] | d_loss: 1.2533 | g_loss: 1.1421\n",
      "Epoch [   46/  100] | d_loss: 1.2264 | g_loss: 1.0933\n",
      "Epoch [   46/  100] | d_loss: 1.3278 | g_loss: 0.9905\n",
      "Epoch [   47/  100] | d_loss: 1.2734 | g_loss: 1.1414\n",
      "Epoch [   47/  100] | d_loss: 1.2198 | g_loss: 1.3791\n",
      "Epoch [   47/  100] | d_loss: 1.3350 | g_loss: 1.0727\n",
      "Epoch [   48/  100] | d_loss: 1.1584 | g_loss: 1.1812\n",
      "Epoch [   48/  100] | d_loss: 1.1477 | g_loss: 1.1225\n",
      "Epoch [   48/  100] | d_loss: 1.2559 | g_loss: 0.8421\n",
      "Epoch [   49/  100] | d_loss: 1.2687 | g_loss: 1.1739\n",
      "Epoch [   49/  100] | d_loss: 1.2685 | g_loss: 1.2590\n",
      "Epoch [   49/  100] | d_loss: 1.4325 | g_loss: 1.0097\n",
      "Epoch [   50/  100] | d_loss: 1.2547 | g_loss: 1.4376\n",
      "Epoch [   50/  100] | d_loss: 1.2343 | g_loss: 1.1975\n",
      "Epoch [   50/  100] | d_loss: 1.3055 | g_loss: 1.1461\n",
      "Epoch [   51/  100] | d_loss: 1.2185 | g_loss: 1.1453\n",
      "Epoch [   51/  100] | d_loss: 1.1247 | g_loss: 1.2203\n"
     ]
    },
    {
     "name": "stdout",
     "output_type": "stream",
     "text": [
      "Epoch [   51/  100] | d_loss: 1.2460 | g_loss: 1.1008\n",
      "Epoch [   52/  100] | d_loss: 1.1823 | g_loss: 1.1362\n",
      "Epoch [   52/  100] | d_loss: 1.3273 | g_loss: 1.1055\n",
      "Epoch [   52/  100] | d_loss: 1.1809 | g_loss: 1.2630\n",
      "Epoch [   53/  100] | d_loss: 1.2890 | g_loss: 0.9052\n",
      "Epoch [   53/  100] | d_loss: 1.1749 | g_loss: 1.0612\n",
      "Epoch [   53/  100] | d_loss: 1.2829 | g_loss: 1.5163\n",
      "Epoch [   54/  100] | d_loss: 1.3630 | g_loss: 1.3335\n",
      "Epoch [   54/  100] | d_loss: 1.1922 | g_loss: 1.0389\n",
      "Epoch [   54/  100] | d_loss: 1.2713 | g_loss: 1.0291\n",
      "Epoch [   55/  100] | d_loss: 1.0835 | g_loss: 1.4698\n",
      "Epoch [   55/  100] | d_loss: 1.3372 | g_loss: 1.3049\n",
      "Epoch [   55/  100] | d_loss: 1.3386 | g_loss: 1.1166\n",
      "Epoch [   56/  100] | d_loss: 1.2123 | g_loss: 1.0198\n",
      "Epoch [   56/  100] | d_loss: 1.3205 | g_loss: 1.0528\n",
      "Epoch [   56/  100] | d_loss: 1.3574 | g_loss: 1.0098\n",
      "Epoch [   57/  100] | d_loss: 1.2524 | g_loss: 1.1681\n",
      "Epoch [   57/  100] | d_loss: 1.2313 | g_loss: 0.9949\n",
      "Epoch [   57/  100] | d_loss: 1.3916 | g_loss: 0.9668\n",
      "Epoch [   58/  100] | d_loss: 1.2859 | g_loss: 1.2559\n",
      "Epoch [   58/  100] | d_loss: 1.1510 | g_loss: 1.1663\n",
      "Epoch [   58/  100] | d_loss: 1.2159 | g_loss: 0.8934\n",
      "Epoch [   59/  100] | d_loss: 1.3087 | g_loss: 1.0700\n",
      "Epoch [   59/  100] | d_loss: 1.3217 | g_loss: 1.2345\n",
      "Epoch [   59/  100] | d_loss: 1.3740 | g_loss: 1.1551\n",
      "Epoch [   60/  100] | d_loss: 1.3106 | g_loss: 1.1271\n",
      "Epoch [   60/  100] | d_loss: 1.2538 | g_loss: 1.1488\n",
      "Epoch [   60/  100] | d_loss: 1.3144 | g_loss: 0.9543\n",
      "Epoch [   61/  100] | d_loss: 1.1442 | g_loss: 1.3268\n",
      "Epoch [   61/  100] | d_loss: 1.3176 | g_loss: 1.0890\n",
      "Epoch [   61/  100] | d_loss: 1.3253 | g_loss: 1.1300\n",
      "Epoch [   62/  100] | d_loss: 1.2351 | g_loss: 0.9511\n",
      "Epoch [   62/  100] | d_loss: 1.2210 | g_loss: 0.9968\n",
      "Epoch [   62/  100] | d_loss: 1.3108 | g_loss: 0.9863\n",
      "Epoch [   63/  100] | d_loss: 1.3026 | g_loss: 1.1073\n",
      "Epoch [   63/  100] | d_loss: 1.2707 | g_loss: 0.9920\n",
      "Epoch [   63/  100] | d_loss: 1.2875 | g_loss: 1.0112\n",
      "Epoch [   64/  100] | d_loss: 1.2598 | g_loss: 1.1057\n",
      "Epoch [   64/  100] | d_loss: 1.1788 | g_loss: 0.9082\n",
      "Epoch [   64/  100] | d_loss: 1.2769 | g_loss: 1.0902\n",
      "Epoch [   65/  100] | d_loss: 1.2510 | g_loss: 1.3485\n",
      "Epoch [   65/  100] | d_loss: 1.2133 | g_loss: 1.1853\n",
      "Epoch [   65/  100] | d_loss: 1.4144 | g_loss: 1.0611\n",
      "Epoch [   66/  100] | d_loss: 1.3094 | g_loss: 1.0271\n",
      "Epoch [   66/  100] | d_loss: 1.2362 | g_loss: 1.1897\n",
      "Epoch [   66/  100] | d_loss: 1.3297 | g_loss: 1.0461\n",
      "Epoch [   67/  100] | d_loss: 1.1883 | g_loss: 1.5790\n",
      "Epoch [   67/  100] | d_loss: 1.2598 | g_loss: 1.0306\n",
      "Epoch [   67/  100] | d_loss: 1.2746 | g_loss: 1.3758\n",
      "Epoch [   68/  100] | d_loss: 1.2844 | g_loss: 0.9343\n",
      "Epoch [   68/  100] | d_loss: 1.2357 | g_loss: 1.1493\n",
      "Epoch [   68/  100] | d_loss: 1.3186 | g_loss: 1.1020\n",
      "Epoch [   69/  100] | d_loss: 1.2259 | g_loss: 1.2894\n",
      "Epoch [   69/  100] | d_loss: 1.2122 | g_loss: 1.2808\n",
      "Epoch [   69/  100] | d_loss: 1.3378 | g_loss: 0.8944\n",
      "Epoch [   70/  100] | d_loss: 1.2866 | g_loss: 1.2167\n",
      "Epoch [   70/  100] | d_loss: 1.0862 | g_loss: 0.9934\n",
      "Epoch [   70/  100] | d_loss: 1.3029 | g_loss: 0.9840\n",
      "Epoch [   71/  100] | d_loss: 1.2016 | g_loss: 1.1508\n",
      "Epoch [   71/  100] | d_loss: 1.2734 | g_loss: 0.9524\n",
      "Epoch [   71/  100] | d_loss: 1.3213 | g_loss: 0.9780\n",
      "Epoch [   72/  100] | d_loss: 1.2214 | g_loss: 1.1285\n",
      "Epoch [   72/  100] | d_loss: 1.2103 | g_loss: 1.0696\n",
      "Epoch [   72/  100] | d_loss: 1.2697 | g_loss: 1.0296\n",
      "Epoch [   73/  100] | d_loss: 1.3756 | g_loss: 1.5578\n",
      "Epoch [   73/  100] | d_loss: 1.2709 | g_loss: 1.4326\n",
      "Epoch [   73/  100] | d_loss: 1.3151 | g_loss: 0.9543\n",
      "Epoch [   74/  100] | d_loss: 1.1957 | g_loss: 1.0079\n",
      "Epoch [   74/  100] | d_loss: 1.2963 | g_loss: 0.9411\n",
      "Epoch [   74/  100] | d_loss: 1.2354 | g_loss: 1.1894\n",
      "Epoch [   75/  100] | d_loss: 1.2767 | g_loss: 1.3711\n",
      "Epoch [   75/  100] | d_loss: 1.2091 | g_loss: 1.2324\n",
      "Epoch [   75/  100] | d_loss: 1.2295 | g_loss: 0.9817\n",
      "Epoch [   76/  100] | d_loss: 1.2509 | g_loss: 1.2100\n",
      "Epoch [   76/  100] | d_loss: 1.2689 | g_loss: 1.0165\n",
      "Epoch [   76/  100] | d_loss: 1.2621 | g_loss: 0.9002\n",
      "Epoch [   77/  100] | d_loss: 1.1785 | g_loss: 0.9491\n",
      "Epoch [   77/  100] | d_loss: 1.2383 | g_loss: 1.1724\n",
      "Epoch [   77/  100] | d_loss: 1.2932 | g_loss: 1.0058\n",
      "Epoch [   78/  100] | d_loss: 1.2400 | g_loss: 1.4932\n",
      "Epoch [   78/  100] | d_loss: 1.1331 | g_loss: 1.1769\n",
      "Epoch [   78/  100] | d_loss: 1.3779 | g_loss: 1.1893\n",
      "Epoch [   79/  100] | d_loss: 1.2390 | g_loss: 1.1498\n",
      "Epoch [   79/  100] | d_loss: 1.2126 | g_loss: 1.1463\n",
      "Epoch [   79/  100] | d_loss: 1.2855 | g_loss: 0.9458\n",
      "Epoch [   80/  100] | d_loss: 1.2690 | g_loss: 1.1131\n",
      "Epoch [   80/  100] | d_loss: 1.1332 | g_loss: 0.9221\n",
      "Epoch [   80/  100] | d_loss: 1.4113 | g_loss: 0.8007\n",
      "Epoch [   81/  100] | d_loss: 1.2442 | g_loss: 1.1627\n",
      "Epoch [   81/  100] | d_loss: 1.3507 | g_loss: 1.1815\n",
      "Epoch [   81/  100] | d_loss: 1.2841 | g_loss: 0.9892\n",
      "Epoch [   82/  100] | d_loss: 1.2101 | g_loss: 1.1167\n",
      "Epoch [   82/  100] | d_loss: 1.3051 | g_loss: 0.9856\n",
      "Epoch [   82/  100] | d_loss: 1.3126 | g_loss: 1.1349\n",
      "Epoch [   83/  100] | d_loss: 1.2906 | g_loss: 1.1898\n",
      "Epoch [   83/  100] | d_loss: 1.1584 | g_loss: 1.0382\n",
      "Epoch [   83/  100] | d_loss: 1.2926 | g_loss: 1.2266\n",
      "Epoch [   84/  100] | d_loss: 1.4810 | g_loss: 1.1303\n",
      "Epoch [   84/  100] | d_loss: 1.2818 | g_loss: 1.4521\n",
      "Epoch [   84/  100] | d_loss: 1.2352 | g_loss: 1.1963\n",
      "Epoch [   85/  100] | d_loss: 1.3115 | g_loss: 1.1801\n",
      "Epoch [   85/  100] | d_loss: 1.1829 | g_loss: 1.1765\n",
      "Epoch [   85/  100] | d_loss: 1.3043 | g_loss: 1.1954\n",
      "Epoch [   86/  100] | d_loss: 1.2244 | g_loss: 1.1564\n",
      "Epoch [   86/  100] | d_loss: 1.2608 | g_loss: 1.0065\n",
      "Epoch [   86/  100] | d_loss: 1.3157 | g_loss: 1.1629\n",
      "Epoch [   87/  100] | d_loss: 1.2561 | g_loss: 1.0517\n",
      "Epoch [   87/  100] | d_loss: 1.1825 | g_loss: 1.4752\n",
      "Epoch [   87/  100] | d_loss: 1.3516 | g_loss: 1.2065\n",
      "Epoch [   88/  100] | d_loss: 1.2933 | g_loss: 1.1666\n",
      "Epoch [   88/  100] | d_loss: 1.1126 | g_loss: 1.1846\n",
      "Epoch [   88/  100] | d_loss: 1.2869 | g_loss: 1.2949\n",
      "Epoch [   89/  100] | d_loss: 1.1605 | g_loss: 1.4424\n",
      "Epoch [   89/  100] | d_loss: 1.1990 | g_loss: 0.9148\n",
      "Epoch [   89/  100] | d_loss: 1.2997 | g_loss: 1.0554\n",
      "Epoch [   90/  100] | d_loss: 1.2355 | g_loss: 1.0263\n",
      "Epoch [   90/  100] | d_loss: 1.1257 | g_loss: 1.2197\n",
      "Epoch [   90/  100] | d_loss: 1.2227 | g_loss: 1.3709\n",
      "Epoch [   91/  100] | d_loss: 1.2121 | g_loss: 1.1252\n",
      "Epoch [   91/  100] | d_loss: 1.2392 | g_loss: 1.0865\n",
      "Epoch [   91/  100] | d_loss: 1.3454 | g_loss: 0.9281\n",
      "Epoch [   92/  100] | d_loss: 1.2775 | g_loss: 1.2178\n",
      "Epoch [   92/  100] | d_loss: 1.1933 | g_loss: 1.1380\n",
      "Epoch [   92/  100] | d_loss: 1.2952 | g_loss: 1.0617\n",
      "Epoch [   93/  100] | d_loss: 1.2399 | g_loss: 1.3535\n",
      "Epoch [   93/  100] | d_loss: 1.2325 | g_loss: 0.9944\n",
      "Epoch [   93/  100] | d_loss: 1.3430 | g_loss: 0.8919\n",
      "Epoch [   94/  100] | d_loss: 1.2048 | g_loss: 1.4787\n",
      "Epoch [   94/  100] | d_loss: 1.3193 | g_loss: 1.4387\n",
      "Epoch [   94/  100] | d_loss: 1.2705 | g_loss: 1.1222\n",
      "Epoch [   95/  100] | d_loss: 1.2724 | g_loss: 1.3053\n",
      "Epoch [   95/  100] | d_loss: 1.1366 | g_loss: 1.4405\n",
      "Epoch [   95/  100] | d_loss: 1.3535 | g_loss: 1.1176\n",
      "Epoch [   96/  100] | d_loss: 1.1553 | g_loss: 1.7889\n",
      "Epoch [   96/  100] | d_loss: 1.3090 | g_loss: 1.0491\n",
      "Epoch [   96/  100] | d_loss: 1.2073 | g_loss: 1.3459\n",
      "Epoch [   97/  100] | d_loss: 1.3106 | g_loss: 1.2909\n",
      "Epoch [   97/  100] | d_loss: 1.1897 | g_loss: 1.3238\n",
      "Epoch [   97/  100] | d_loss: 1.3516 | g_loss: 1.0562\n",
      "Epoch [   98/  100] | d_loss: 1.2594 | g_loss: 1.1361\n",
      "Epoch [   98/  100] | d_loss: 1.3108 | g_loss: 1.1137\n",
      "Epoch [   98/  100] | d_loss: 1.2332 | g_loss: 1.0963\n",
      "Epoch [   99/  100] | d_loss: 1.3233 | g_loss: 1.0032\n",
      "Epoch [   99/  100] | d_loss: 1.2150 | g_loss: 1.0818\n",
      "Epoch [   99/  100] | d_loss: 1.2713 | g_loss: 1.0120\n",
      "Epoch [  100/  100] | d_loss: 1.2647 | g_loss: 1.4588\n",
      "Epoch [  100/  100] | d_loss: 1.2005 | g_loss: 1.2495\n",
      "Epoch [  100/  100] | d_loss: 1.2033 | g_loss: 1.4693\n"
     ]
    }
   ],
   "source": [
    "import pickle as pkl\n",
    "\n",
    "# training hyperparams\n",
    "num_epochs = 100\n",
    "\n",
    "# keep track of loss and generated, \"fake\" samples\n",
    "samples = []\n",
    "losses = []\n",
    "\n",
    "print_every = 400\n",
    "\n",
    "# Get some fixed data for sampling. These are images that are held\n",
    "# constant throughout training, and allow us to inspect the model's performance\n",
    "sample_size=16\n",
    "fixed_z = np.random.uniform(-1, 1, size=(sample_size, z_size))\n",
    "fixed_z = torch.from_numpy(fixed_z).float()\n",
    "\n",
    "# train the network\n",
    "D.train()\n",
    "G.train()\n",
    "for epoch in range(num_epochs):\n",
    "    \n",
    "    for batch_i, (real_images, _) in enumerate(train_loader):\n",
    "                \n",
    "        batch_size = real_images.size(0)\n",
    "        \n",
    "        ## Important rescaling step ## \n",
    "        real_images = real_images*2 - 1  # rescale input images from [0,1) to [-1, 1)\n",
    "        \n",
    "        # ============================================\n",
    "        #            TRAIN THE DISCRIMINATOR\n",
    "        # ============================================\n",
    "        \n",
    "        d_optimizer.zero_grad()\n",
    "        \n",
    "        # 1. Train with real images\n",
    "\n",
    "        # Compute the discriminator losses on real images \n",
    "        # smooth the real labels\n",
    "        D_real = D(real_images)\n",
    "        d_real_loss = real_loss(D_real, smooth=True)\n",
    "        \n",
    "        # 2. Train with fake images\n",
    "        \n",
    "        # Generate fake images\n",
    "        z = np.random.uniform(-1, 1, size=(batch_size, z_size))\n",
    "        z = torch.from_numpy(z).float()\n",
    "        fake_images = G(z)\n",
    "        \n",
    "        # Compute the discriminator losses on fake images        \n",
    "        D_fake = D(fake_images)\n",
    "        d_fake_loss = fake_loss(D_fake)\n",
    "        \n",
    "        # add up loss and perform backprop\n",
    "        d_loss = d_real_loss + d_fake_loss\n",
    "        d_loss.backward()\n",
    "        d_optimizer.step()\n",
    "        \n",
    "        \n",
    "        # =========================================\n",
    "        #            TRAIN THE GENERATOR\n",
    "        # =========================================\n",
    "        g_optimizer.zero_grad()\n",
    "        \n",
    "        # 1. Train with fake images and flipped labels\n",
    "        \n",
    "        # Generate fake images\n",
    "        z = np.random.uniform(-1, 1, size=(batch_size, z_size))\n",
    "        z = torch.from_numpy(z).float()\n",
    "        fake_images = G(z)\n",
    "        \n",
    "        # Compute the discriminator losses on fake images \n",
    "        # using flipped labels!\n",
    "        D_fake = D(fake_images)\n",
    "        g_loss = real_loss(D_fake) # use real loss to flip labels\n",
    "        \n",
    "        # perform backprop\n",
    "        g_loss.backward()\n",
    "        g_optimizer.step()\n",
    "\n",
    "        # Print some loss stats\n",
    "        if batch_i % print_every == 0:\n",
    "            # print discriminator and generator loss\n",
    "            print('Epoch [{:5d}/{:5d}] | d_loss: {:6.4f} | g_loss: {:6.4f}'.format(\n",
    "                    epoch+1, num_epochs, d_loss.item(), g_loss.item()))\n",
    "\n",
    "    \n",
    "    ## AFTER EACH EPOCH##\n",
    "    # append discriminator loss and generator loss\n",
    "    losses.append((d_loss.item(), g_loss.item()))\n",
    "    \n",
    "    # generate and save sample, fake images\n",
    "    G.eval() # eval mode for generating samples\n",
    "    samples_z = G(fixed_z)\n",
    "    samples.append(samples_z)\n",
    "    G.train() # back to train mode\n",
    "\n",
    "\n",
    "# Save training generator samples\n",
    "with open('train_samples.pkl', 'wb') as f:\n",
    "    pkl.dump(samples, f)"
   ]
  },
  {
   "cell_type": "markdown",
   "metadata": {},
   "source": [
    "## Training loss\n",
    "\n",
    "Here we'll plot the training losses for the generator and discriminator, recorded after each epoch."
   ]
  },
  {
   "cell_type": "code",
   "execution_count": 41,
   "metadata": {
    "ExecuteTime": {
     "end_time": "2020-04-01T13:09:40.148234Z",
     "start_time": "2020-04-01T13:09:40.009202Z"
    }
   },
   "outputs": [
    {
     "data": {
      "text/plain": [
       "<matplotlib.legend.Legend at 0x1c2a7fbf588>"
      ]
     },
     "execution_count": 41,
     "metadata": {},
     "output_type": "execute_result"
    },
    {
     "data": {
      "image/png": "[encoded data removed]",
      "text/plain": [
       "<Figure size 432x288 with 1 Axes>"
      ]
     },
     "metadata": {
      "needs_background": "light"
     },
     "output_type": "display_data"
    }
   ],
   "source": [
    "fig, ax = plt.subplots()\n",
    "losses = np.array(losses)\n",
    "plt.plot(losses.T[0], label='Discriminator')\n",
    "plt.plot(losses.T[1], label='Generator')\n",
    "plt.title(\"Training Losses\")\n",
    "plt.legend()"
   ]
  },
  {
   "cell_type": "markdown",
   "metadata": {},
   "source": [
    "## Generator samples from training\n",
    "\n",
    "Here we can view samples of images from the generator. First we'll look at the images we saved during training."
   ]
  },
  {
   "cell_type": "code",
   "execution_count": 42,
   "metadata": {
    "ExecuteTime": {
     "end_time": "2020-04-01T13:09:40.306269Z",
     "start_time": "2020-04-01T13:09:40.301268Z"
    }
   },
   "outputs": [],
   "source": [
    "# helper function for viewing a list of passed in sample images\n",
    "def view_samples(epoch, samples):\n",
    "    fig, axes = plt.subplots(figsize=(7,7), nrows=4, ncols=4, sharey=True, sharex=True)\n",
    "    for ax, img in zip(axes.flatten(), samples[epoch]):\n",
    "        img = img.detach()\n",
    "        ax.xaxis.set_visible(False)\n",
    "        ax.yaxis.set_visible(False)\n",
    "        im = ax.imshow(img.reshape((28,28)), cmap='Greys_r')"
   ]
  },
  {
   "cell_type": "code",
   "execution_count": 43,
   "metadata": {
    "ExecuteTime": {
     "end_time": "2020-04-01T13:09:40.477308Z",
     "start_time": "2020-04-01T13:09:40.457304Z"
    }
   },
   "outputs": [],
   "source": [
    "# Load samples from generator, taken while training\n",
    "with open('train_samples.pkl', 'rb') as f:\n",
    "    samples = pkl.load(f)"
   ]
  },
  {
   "cell_type": "markdown",
   "metadata": {},
   "source": [
    "These are samples from the final training epoch. You can see the generator is able to reproduce numbers like 1, 7, 3, 2. Since this is just a sample, it isn't representative of the full range of images this generator can make."
   ]
  },
  {
   "cell_type": "code",
   "execution_count": 44,
   "metadata": {
    "ExecuteTime": {
     "end_time": "2020-04-01T13:09:40.954416Z",
     "start_time": "2020-04-01T13:09:40.625341Z"
    }
   },
   "outputs": [
    {
     "data": {
      "image/png": "[encoded data removed]",
      "text/plain": [
       "<Figure size 504x504 with 16 Axes>"
      ]
     },
     "metadata": {
      "needs_background": "light"
     },
     "output_type": "display_data"
    }
   ],
   "source": [
    "# -1 indicates final epoch's samples (the last in the list)\n",
    "view_samples(-1, samples)"
   ]
  },
  {
   "cell_type": "markdown",
   "metadata": {},
   "source": [
    "Below I'm showing the generated images as the network was training, every 10 epochs."
   ]
  },
  {
   "cell_type": "code",
   "execution_count": 45,
   "metadata": {
    "ExecuteTime": {
     "end_time": "2020-04-01T13:09:42.660803Z",
     "start_time": "2020-04-01T13:09:41.102449Z"
    }
   },
   "outputs": [
    {
     "data": {
      "image/png": "[encoded data removed]",
      "text/plain": [
       "<Figure size 504x864 with 60 Axes>"
      ]
     },
     "metadata": {
      "needs_background": "light"
     },
     "output_type": "display_data"
    }
   ],
   "source": [
    "rows = 10 # split epochs into 10, so 100/10 = every 10 epochs\n",
    "cols = 6\n",
    "fig, axes = plt.subplots(figsize=(7,12), nrows=rows, ncols=cols, sharex=True, sharey=True)\n",
    "\n",
    "for sample, ax_row in zip(samples[::int(len(samples)/rows)], axes):\n",
    "    for img, ax in zip(sample[::int(len(sample)/cols)], ax_row):\n",
    "        img = img.detach()\n",
    "        ax.imshow(img.reshape((28,28)), cmap='Greys_r')\n",
    "        ax.xaxis.set_visible(False)\n",
    "        ax.yaxis.set_visible(False)"
   ]
  },
  {
   "cell_type": "markdown",
   "metadata": {},
   "source": [
    "It starts out as all noise. Then it learns to make only the center white and the rest black. You can start to see some number like structures appear out of the noise like 1s and 9s."
   ]
  },
  {
   "cell_type": "markdown",
   "metadata": {},
   "source": [
    "## Sampling from the generator\n",
    "\n",
    "We can also get completely new images from the generator by using the checkpoint we saved after training. **We just need to pass in a new latent vector $z$ and we'll get new samples**!"
   ]
  },
  {
   "cell_type": "code",
   "execution_count": 46,
   "metadata": {
    "ExecuteTime": {
     "end_time": "2020-04-01T13:09:43.284944Z",
     "start_time": "2020-04-01T13:09:42.816838Z"
    }
   },
   "outputs": [
    {
     "data": {
      "image/png": "[encoded data removed]",
      "text/plain": [
       "<Figure size 504x504 with 16 Axes>"
      ]
     },
     "metadata": {
      "needs_background": "light"
     },
     "output_type": "display_data"
    }
   ],
   "source": [
    "# randomly generated, new latent vectors\n",
    "sample_size=16\n",
    "rand_z = np.random.uniform(-1, 1, size=(sample_size, z_size))\n",
    "rand_z = torch.from_numpy(rand_z).float()\n",
    "\n",
    "G.eval() # eval mode\n",
    "# generated samples\n",
    "rand_images = G(rand_z)\n",
    "\n",
    "# 0 indicates the first set of samples in the passed in list\n",
    "# and we only have one batch of samples, here\n",
    "view_samples(0, [rand_images])"
   ]
  },
  {
   "cell_type": "code",
   "execution_count": null,
   "metadata": {},
   "outputs": [],
   "source": []
  }
 ],
 "metadata": {
  "kernelspec": {
   "display_name": "Python 3",
   "language": "python",
   "name": "python3"
  },
  "language_info": {
   "codemirror_mode": {
    "name": "ipython",
    "version": 3
   },
   "file_extension": ".py",
   "mimetype": "text/x-python",
   "name": "python",
   "nbconvert_exporter": "python",
   "pygments_lexer": "ipython3",
   "version": "3.7.6"
  },
  "varInspector": {
   "cols": {
    "lenName": 16,
    "lenType": 16,
    "lenVar": 40
   },
   "kernels_config": {
    "python": {
     "delete_cmd_postfix": "",
     "delete_cmd_prefix": "del ",
     "library": "var_list.py",
     "varRefreshCmd": "print(var_dic_list())"
    },
    "r": {
     "delete_cmd_postfix": ") ",
     "delete_cmd_prefix": "rm(",
     "library": "var_list.r",
     "varRefreshCmd": "cat(var_dic_list()) "
    }
   },
   "types_to_exclude": [
    "module",
    "function",
    "builtin_function_or_method",
    "instance",
    "_Feature"
   ],
   "window_display": false
  }
 },
 "nbformat": 4,
 "nbformat_minor": 2
}
